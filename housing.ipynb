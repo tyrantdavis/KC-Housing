{
 "cells": [
  {
   "cell_type": "markdown",
   "id": "a9db4cae-de7d-4267-a501-1ea6429a3850",
   "metadata": {},
   "source": [
    "## Import software libraries\n",
    "\n",
    "Import the primary modules that will be used in this project:"
   ]
  },
  {
   "cell_type": "code",
   "execution_count": 1,
   "id": "462841f9-8eef-40b1-8591-85ead78d848e",
   "metadata": {},
   "outputs": [
    {
     "name": "stdout",
     "output_type": "stream",
     "text": [
      "Libraries used in this project:\n",
      "- NumPy 1.24.3\n",
      "- Pandas 2.0.3\n",
      "- Matplotlib 3.7.2\n",
      "- SciPy 1.10.1\n",
      "- Scikit-learn 1.3.2\n",
      "- Python 3.8.18 | packaged by conda-forge | (default, Dec 23 2023, 17:23:49) \n",
      "[Clang 15.0.7 ]\n",
      "\n"
     ]
    }
   ],
   "source": [
    "import os  # Interact with the operating system\n",
    "import sys  # Read system parameters\n",
    "\n",
    "import matplotlib  # Create 2D charts\n",
    "import numpy as np  # Work with multi-dimensional arrays and matrices\n",
    "import pandas as pd  # Manipulate and analyze data\n",
    "import scipy as sp  # Perform scientific computing and advanced mathematics\n",
    "import seaborn as sb  # Perform data visualization\n",
    "import sklearn  # Perform data mining and analysis\n",
    "\n",
    "# Summarize software libraries used\n",
    "print(\"Libraries used in this project:\")\n",
    "print(\"- NumPy {}\".format(np.__version__))\n",
    "print(\"- Pandas {}\".format(pd.__version__))\n",
    "print(\"- Matplotlib {}\".format(matplotlib.__version__))\n",
    "print(\"- SciPy {}\".format(sp.__version__))\n",
    "print(\"- Scikit-learn {}\".format(sklearn.__version__))\n",
    "print(\"- Python {}\\n\".format(sys.version))"
   ]
  },
  {
   "cell_type": "markdown",
   "id": "e1033786-0fb0-4d3a-9593-879c452f618a",
   "metadata": {},
   "source": [
    "## Load the Dataset\n",
    "\n",
    "To analyze the price of a home  through multiple inputs in King County, load the dataset into `DataFrame`. Once loaded as `DataFrame` the data can be explored and visualized with pandas."
   ]
  },
  {
   "cell_type": "code",
   "execution_count": 2,
   "id": "58c26d6a-bf55-486c-8826-61dd6c09d898",
   "metadata": {},
   "outputs": [
    {
     "name": "stdout",
     "output_type": "stream",
     "text": [
      "Data files in this project: ['.ipynb_checkpoints', 'kc_house_data.csv']\n",
      "Loaded 21613 records from ./housing_data/kc_house_data.csv.\n",
      "\n"
     ]
    }
   ],
   "source": [
    "PROJECT_ROOT_DIR = \".\"\n",
    "DATA_PATH = os.path.join(PROJECT_ROOT_DIR, \"housing_data\")\n",
    "print(\"Data files in this project:\", os.listdir(DATA_PATH))\n",
    "\n",
    "# Read the raw dataset\n",
    "raw_housing_data_file = os.path.join(DATA_PATH, \"kc_house_data.csv\")\n",
    "raw_housing_data = pd.read_csv(raw_housing_data_file)\n",
    "print(\n",
    "    \"Loaded {} records from {}.\\n\".format(len(raw_housing_data), raw_housing_data_file)\n",
    ")"
   ]
  },
  {
   "cell_type": "markdown",
   "id": "17a88347-e6c3-437f-8cc2-8762bf3b9c51",
   "metadata": {},
   "source": [
    "## Dataset Information\n"
   ]
  },
  {
   "cell_type": "markdown",
   "id": "4b048f59-c448-4919-821f-ae4831ba99e0",
   "metadata": {},
   "source": [
    "#### View features and data types\n",
    "\n",
    "Column Labels:\n",
    "- **id**—Unique identifier for each house sold.\n",
    "- **date**—Date of the house's most recent sale.\n",
    "- **price**—Price the house most recently sold for.\n",
    "- **bedrooms**—Number of bedrooms in the house.\n",
    "- **bathrooms**—Number of bathrooms. A room with a toilet but no shower is counted as 0.5.\n",
    "- **sqft_living**—Square footage of the house's interior living space.\n",
    "- **sqft_lot**—Square footage of the lot on which the house is located.\n",
    "- **floors**—Number of floor levels in the house.\n",
    "- **waterfront**—Whether the property borders on or contains a body of water. (0 = not waterfront, 1 =\n",
    "waterfront)\n",
    "- **view**—An index from 0 to 4 representing the subjective quality of the view from the property. The\n",
    "higher the number, the better the view.\n",
    "- **condition**—An index from 1 to 5 representing the subjective condition of the property. The higher\n",
    "the number, the better the condition.\n",
    "- **grade**—An index from 0 to 14 representing the quality of the building's construction and design.\n",
    "The higher the number, the better the grade.\n",
    "- **sqft_above**The square footage of the interior housing space that is above ground level.\n",
    "- **sqft_basement**—The square footage of the interior housing space that is below ground level.\n",
    "- **yr_built**—The year the house was initially built.\n",
    "- **yr_renovated**—The year of the house's last renovation.\n",
    "- **zipcode**—What zipcode area the house is located within.\n",
    "- **lat**—Latitude of the house's location.\n",
    "- **long**—Longitude of the house's location.\n",
    "- **sqft_living15**—The square footage of interior housing living space for the nearest 15 neighbors.\n",
    "- **sqft_lot15**—The square footage of the lan"
   ]
  },
  {
   "cell_type": "code",
   "execution_count": 3,
   "id": "3ac7705c-e715-4332-b5f3-c20d68d9fa26",
   "metadata": {},
   "outputs": [
    {
     "name": "stdout",
     "output_type": "stream",
     "text": [
      "<class 'pandas.core.frame.DataFrame'>\n",
      "RangeIndex: 21613 entries, 0 to 21612\n",
      "Data columns (total 21 columns):\n",
      " #   Column         Non-Null Count  Dtype  \n",
      "---  ------         --------------  -----  \n",
      " 0   id             21613 non-null  int64  \n",
      " 1   date           21613 non-null  object \n",
      " 2   price          21613 non-null  float64\n",
      " 3   bedrooms       21613 non-null  int64  \n",
      " 4   bathrooms      21613 non-null  float64\n",
      " 5   sqft_living    21613 non-null  int64  \n",
      " 6   sqft_lot       21613 non-null  int64  \n",
      " 7   floors         21613 non-null  float64\n",
      " 8   waterfront     21613 non-null  int64  \n",
      " 9   view           21613 non-null  int64  \n",
      " 10  condition      21613 non-null  int64  \n",
      " 11  grade          21613 non-null  int64  \n",
      " 12  sqft_above     21613 non-null  int64  \n",
      " 13  sqft_basement  21613 non-null  int64  \n",
      " 14  yr_built       21613 non-null  int64  \n",
      " 15  yr_renovated   21613 non-null  int64  \n",
      " 16  zipcode        21613 non-null  int64  \n",
      " 17  lat            21613 non-null  float64\n",
      " 18  long           21613 non-null  float64\n",
      " 19  sqft_living15  21613 non-null  int64  \n",
      " 20  sqft_lot15     21613 non-null  int64  \n",
      "dtypes: float64(5), int64(15), object(1)\n",
      "memory usage: 3.5+ MB\n",
      "None\n"
     ]
    }
   ],
   "source": [
    "print(raw_housing_data.info())"
   ]
  },
  {
   "cell_type": "markdown",
   "id": "c5438f6c-bccf-4cc5-abbb-561cf332bf43",
   "metadata": {},
   "source": [
    "- 21,613 records (\"entries\" regarding a particular house) are in the dataset.\n",
    "- There are 21 columns in the dataset.\n",
    "- Each column in the dataset is listed, along with its data type and the number of records that\n",
    "include a data value.\n",
    "- Five columns contain floating point number values: price, bathrooms, floors, lat, and\n",
    "long.\n",
    "- Fifteen columns contain integer number values: id, bedrooms, sqft_living, sqft_lot,\n",
    "waterfront, view, condition, grade, sqft_above, sqft_basement, yr_built,\n",
    "yr_renovated, zipcode, sqft_living15, and sqft_lot15.\n",
    "- One column (date) contains a date value (reported as an \"object\" value).\n",
    "- There are no missing data values. Each column contains 21,613 entries."
   ]
  },
  {
   "cell_type": "markdown",
   "id": "a9eadc1a-8b38-4974-bb8f-de38078191af",
   "metadata": {},
   "source": [
    "### Display samples"
   ]
  },
  {
   "cell_type": "markdown",
   "id": "ef340af8-0b7d-4228-8950-b94610b96b32",
   "metadata": {},
   "source": [
    "You can see significant variation in prices, number of bedrooms and bathrooms, living space, even in this small sample."
   ]
  },
  {
   "cell_type": "code",
   "execution_count": 4,
   "id": "c6507c9a-bd00-4058-9bf7-52326df51795",
   "metadata": {},
   "outputs": [
    {
     "name": "stdout",
     "output_type": "stream",
     "text": [
      "           id             date      price  bedrooms  bathrooms  sqft_living  \\\n",
      "0  7129300520  20141013T000000   221900.0         3       1.00         1180   \n",
      "1  6414100192  20141209T000000   538000.0         3       2.25         2570   \n",
      "2  5631500400  20150225T000000   180000.0         2       1.00          770   \n",
      "3  2487200875  20141209T000000   604000.0         4       3.00         1960   \n",
      "4  1954400510  20150218T000000   510000.0         3       2.00         1680   \n",
      "5  7237550310  20140512T000000  1225000.0         4       4.50         5420   \n",
      "6  1321400060  20140627T000000   257500.0         3       2.25         1715   \n",
      "7  2008000270  20150115T000000   291850.0         3       1.50         1060   \n",
      "8  2414600126  20150415T000000   229500.0         3       1.00         1780   \n",
      "9  3793500160  20150312T000000   323000.0         3       2.50         1890   \n",
      "\n",
      "   sqft_lot  floors  waterfront  view  ...  grade  sqft_above  sqft_basement  \\\n",
      "0      5650     1.0           0     0  ...      7        1180              0   \n",
      "1      7242     2.0           0     0  ...      7        2170            400   \n",
      "2     10000     1.0           0     0  ...      6         770              0   \n",
      "3      5000     1.0           0     0  ...      7        1050            910   \n",
      "4      8080     1.0           0     0  ...      8        1680              0   \n",
      "5    101930     1.0           0     0  ...     11        3890           1530   \n",
      "6      6819     2.0           0     0  ...      7        1715              0   \n",
      "7      9711     1.0           0     0  ...      7        1060              0   \n",
      "8      7470     1.0           0     0  ...      7        1050            730   \n",
      "9      6560     2.0           0     0  ...      7        1890              0   \n",
      "\n",
      "   yr_built  yr_renovated  zipcode      lat     long  sqft_living15  \\\n",
      "0      1955             0    98178  47.5112 -122.257           1340   \n",
      "1      1951          1991    98125  47.7210 -122.319           1690   \n",
      "2      1933             0    98028  47.7379 -122.233           2720   \n",
      "3      1965             0    98136  47.5208 -122.393           1360   \n",
      "4      1987             0    98074  47.6168 -122.045           1800   \n",
      "5      2001             0    98053  47.6561 -122.005           4760   \n",
      "6      1995             0    98003  47.3097 -122.327           2238   \n",
      "7      1963             0    98198  47.4095 -122.315           1650   \n",
      "8      1960             0    98146  47.5123 -122.337           1780   \n",
      "9      2003             0    98038  47.3684 -122.031           2390   \n",
      "\n",
      "   sqft_lot15  \n",
      "0        5650  \n",
      "1        7639  \n",
      "2        8062  \n",
      "3        5000  \n",
      "4        7503  \n",
      "5      101930  \n",
      "6        6819  \n",
      "7        9711  \n",
      "8        8113  \n",
      "9        7570  \n",
      "\n",
      "[10 rows x 21 columns]\n"
     ]
    }
   ],
   "source": [
    "# View first ten records\n",
    "print(raw_housing_data.head(10))"
   ]
  },
  {
   "cell_type": "markdown",
   "id": "78e22887-ab6f-4509-b4ac-f30b70825175",
   "metadata": {},
   "source": [
    "## Data Characteristics - Statistical Measures"
   ]
  },
  {
   "cell_type": "markdown",
   "id": "4c759ed9-5bb6-4815-9297-d4fa4a30c338",
   "metadata": {},
   "source": [
    "### Descriptive summary statistics"
   ]
  },
  {
   "cell_type": "code",
   "execution_count": 5,
   "id": "07b59b02-de2b-40e3-8e46-c7ff87c4bacd",
   "metadata": {},
   "outputs": [
    {
     "name": "stdout",
     "output_type": "stream",
     "text": [
      "                 id      price  bedrooms  bathrooms  sqft_living   sqft_lot  \\\n",
      "count      21613.00   21613.00  21613.00   21613.00     21613.00   21613.00   \n",
      "mean  4580301520.86  540088.14      3.37       2.11      2079.90   15106.97   \n",
      "std   2876565571.31  367127.20      0.93       0.77       918.44   41420.51   \n",
      "min      1000102.00   75000.00      0.00       0.00       290.00     520.00   \n",
      "25%   2123049194.00  321950.00      3.00       1.75      1427.00    5040.00   \n",
      "50%   3904930410.00  450000.00      3.00       2.25      1910.00    7618.00   \n",
      "75%   7308900445.00  645000.00      4.00       2.50      2550.00   10688.00   \n",
      "max   9900000190.00 7700000.00     33.00       8.00     13540.00 1651359.00   \n",
      "\n",
      "        floors  waterfront     view  condition    grade  sqft_above  \\\n",
      "count 21613.00    21613.00 21613.00   21613.00 21613.00    21613.00   \n",
      "mean      1.49        0.01     0.23       3.41     7.66     1788.39   \n",
      "std       0.54        0.09     0.77       0.65     1.18      828.09   \n",
      "min       1.00        0.00     0.00       1.00     1.00      290.00   \n",
      "25%       1.00        0.00     0.00       3.00     7.00     1190.00   \n",
      "50%       1.50        0.00     0.00       3.00     7.00     1560.00   \n",
      "75%       2.00        0.00     0.00       4.00     8.00     2210.00   \n",
      "max       3.50        1.00     4.00       5.00    13.00     9410.00   \n",
      "\n",
      "       sqft_basement  yr_built  yr_renovated  zipcode      lat     long  \\\n",
      "count       21613.00  21613.00      21613.00 21613.00 21613.00 21613.00   \n",
      "mean          291.51   1971.01         84.40 98077.94    47.56  -122.21   \n",
      "std           442.58     29.37        401.68    53.51     0.14     0.14   \n",
      "min             0.00   1900.00          0.00 98001.00    47.16  -122.52   \n",
      "25%             0.00   1951.00          0.00 98033.00    47.47  -122.33   \n",
      "50%             0.00   1975.00          0.00 98065.00    47.57  -122.23   \n",
      "75%           560.00   1997.00          0.00 98118.00    47.68  -122.12   \n",
      "max          4820.00   2015.00       2015.00 98199.00    47.78  -121.31   \n",
      "\n",
      "       sqft_living15  sqft_lot15  \n",
      "count       21613.00    21613.00  \n",
      "mean         1986.55    12768.46  \n",
      "std           685.39    27304.18  \n",
      "min           399.00      651.00  \n",
      "25%          1490.00     5100.00  \n",
      "50%          1840.00     7620.00  \n",
      "75%          2360.00    10083.00  \n",
      "max          6210.00   871200.00  \n"
     ]
    }
   ],
   "source": [
    "with pd.option_context(\"float_format\", \"{:.2f}\".format):\n",
    "    print(raw_housing_data.describe())"
   ]
  },
  {
   "cell_type": "markdown",
   "id": "41b3a332-6fcf-44dd-9313-ba67cb4c9971",
   "metadata": {},
   "source": [
    "### Summarize the most common values\n"
   ]
  },
  {
   "cell_type": "code",
   "execution_count": 6,
   "id": "03bf6969-02ff-4c3f-b285-7c26c9bb6970",
   "metadata": {},
   "outputs": [
    {
     "data": {
      "text/html": [
       "<div>\n",
       "<style scoped>\n",
       "    .dataframe tbody tr th:only-of-type {\n",
       "        vertical-align: middle;\n",
       "    }\n",
       "\n",
       "    .dataframe tbody tr th {\n",
       "        vertical-align: top;\n",
       "    }\n",
       "\n",
       "    .dataframe thead th {\n",
       "        text-align: right;\n",
       "    }\n",
       "</style>\n",
       "<table border=\"1\" class=\"dataframe\">\n",
       "  <thead>\n",
       "    <tr style=\"text-align: right;\">\n",
       "      <th></th>\n",
       "      <th>view</th>\n",
       "      <th>waterfront</th>\n",
       "      <th>grade</th>\n",
       "      <th>zipcode</th>\n",
       "      <th>bedrooms</th>\n",
       "      <th>bathrooms</th>\n",
       "      <th>floors</th>\n",
       "    </tr>\n",
       "  </thead>\n",
       "  <tbody>\n",
       "    <tr>\n",
       "      <th>0</th>\n",
       "      <td>0</td>\n",
       "      <td>0</td>\n",
       "      <td>7</td>\n",
       "      <td>98103</td>\n",
       "      <td>3</td>\n",
       "      <td>2.5</td>\n",
       "      <td>1.0</td>\n",
       "    </tr>\n",
       "  </tbody>\n",
       "</table>\n",
       "</div>"
      ],
      "text/plain": [
       "   view  waterfront  grade  zipcode  bedrooms  bathrooms  floors\n",
       "0     0           0      7    98103         3        2.5     1.0"
      ]
     },
     "execution_count": 6,
     "metadata": {},
     "output_type": "execute_result"
    }
   ],
   "source": [
    "# Summarize most common values for features with non-continuous or categorical values\n",
    "features_to_summarize = [\n",
    "    \"view\",\n",
    "    \"waterfront\",\n",
    "    \"grade\",\n",
    "    \"zipcode\",\n",
    "    \"bedrooms\",\n",
    "    \"bathrooms\",\n",
    "    \"floors\",\n",
    "]\n",
    "raw_housing_data[features_to_summarize].mode()"
   ]
  },
  {
   "cell_type": "markdown",
   "id": "fab397a6-8a5e-41c9-a3e6-53687f1e1ae9",
   "metadata": {},
   "source": [
    "The typical house:\n",
    "- Does not have a \"view\" and is not on the waterfront.\n",
    "- Has a grade of 7.\n",
    "- Has a zipcode of 98103.\n",
    "- Has 3 bedrooms, 2.5 bathrooms, and 1 floor level."
   ]
  },
  {
   "cell_type": "markdown",
   "id": "11d6d3ee-fbae-4c61-8027-151de45cf872",
   "metadata": {},
   "source": [
    "### Show feature correlations with price"
   ]
  },
  {
   "cell_type": "markdown",
   "id": "e38e5c41-1a6c-43a6-98fc-6412939b333f",
   "metadata": {},
   "source": [
    "Convert **date** column to datetime in preparation for Pearson's Correlation Coefficient"
   ]
  },
  {
   "cell_type": "code",
   "execution_count": 7,
   "id": "16ac0ac0-e716-48b0-9f13-f883eb179d5e",
   "metadata": {},
   "outputs": [
    {
     "name": "stdout",
     "output_type": "stream",
     "text": [
      "'date' column before conversion:\n",
      "\n",
      "<class 'pandas.core.series.Series'>\n",
      "RangeIndex: 21613 entries, 0 to 21612\n",
      "Series name: date\n",
      "Non-Null Count  Dtype \n",
      "--------------  ----- \n",
      "21613 non-null  object\n",
      "dtypes: object(1)\n",
      "memory usage: 169.0+ KB\n",
      "None\n",
      "'date' column after conversion:\n",
      "\n",
      "<class 'pandas.core.series.Series'>\n",
      "RangeIndex: 21613 entries, 0 to 21612\n",
      "Series name: date\n",
      "Non-Null Count  Dtype         \n",
      "--------------  -----         \n",
      "21613 non-null  datetime64[ns]\n",
      "dtypes: datetime64[ns](1)\n",
      "memory usage: 169.0 KB\n",
      "None\n"
     ]
    }
   ],
   "source": [
    "print(\"'date' column before conversion:\\n\")\n",
    "print(raw_housing_data.date.info())\n",
    "raw_housing_data.date = pd.to_datetime(raw_housing_data.date)\n",
    "print(\"'date' column after conversion:\\n\")\n",
    "print(raw_housing_data.date.info())"
   ]
  },
  {
   "cell_type": "markdown",
   "id": "411e410d-a9d2-49f0-bc69-7ad859ce8626",
   "metadata": {},
   "source": [
    "#### Calculate Pearson's Correlation Coefficient\n",
    "\n",
    "- **sqft_living** is the feature that has the strongest correlation to **price**\n",
    "- condition, sqft_lot15, sqft_lot, and waterfront have weak correlations to price\n",
    "- The perfect 1.0 for price can be dsiregarded as it simply indicates that price perfectly correlates with itself."
   ]
  },
  {
   "cell_type": "code",
   "execution_count": 8,
   "id": "9f7d0676-f822-4fe0-bd1c-f8b4bb1167c5",
   "metadata": {},
   "outputs": [
    {
     "name": "stdout",
     "output_type": "stream",
     "text": [
      "Pearson correlations with price\n"
     ]
    },
    {
     "data": {
      "text/plain": [
       "price            1.000000\n",
       "sqft_living      0.702035\n",
       "grade            0.667434\n",
       "sqft_above       0.605567\n",
       "sqft_living15    0.585379\n",
       "bathrooms        0.525138\n",
       "view             0.397293\n",
       "sqft_basement    0.323816\n",
       "bedrooms         0.308350\n",
       "lat              0.307003\n",
       "waterfront       0.266369\n",
       "floors           0.256794\n",
       "yr_renovated     0.126434\n",
       "sqft_lot         0.089661\n",
       "sqft_lot15       0.082447\n",
       "yr_built         0.054012\n",
       "condition        0.036362\n",
       "long             0.021626\n",
       "date            -0.004357\n",
       "id              -0.016762\n",
       "zipcode         -0.053203\n",
       "Name: price, dtype: float64"
      ]
     },
     "execution_count": 8,
     "metadata": {},
     "output_type": "execute_result"
    }
   ],
   "source": [
    "# # Look for correlations with price using Pearson correlation coefficient\n",
    "print(\"Pearson correlations with price\")\n",
    "corr_matrix = raw_housing_data.corr()\n",
    "corr_matrix[\"price\"].sort_values(ascending=False)"
   ]
  }
 ],
 "metadata": {
  "kernelspec": {
   "display_name": "Python 3 (ipykernel)",
   "language": "python",
   "name": "python3"
  },
  "language_info": {
   "codemirror_mode": {
    "name": "ipython",
    "version": 3
   },
   "file_extension": ".py",
   "mimetype": "text/x-python",
   "name": "python",
   "nbconvert_exporter": "python",
   "pygments_lexer": "ipython3",
   "version": "3.8.18"
  }
 },
 "nbformat": 4,
 "nbformat_minor": 5
}
