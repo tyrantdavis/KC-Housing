{
 "cells": [
  {
   "cell_type": "markdown",
   "id": "a9db4cae-de7d-4267-a501-1ea6429a3850",
   "metadata": {},
   "source": [
    "## Import software libraries\n",
    "\n",
    "Import the primary modules that will be used in this project:"
   ]
  },
  {
   "cell_type": "code",
   "execution_count": 32,
   "id": "462841f9-8eef-40b1-8591-85ead78d848e",
   "metadata": {},
   "outputs": [
    {
     "name": "stdout",
     "output_type": "stream",
     "text": [
      "Libraries used in this project:\n",
      "- NumPy 1.24.3\n",
      "- Pandas 2.0.3\n",
      "- Matplotlib 3.7.2\n",
      "- SciPy 1.10.1\n",
      "- Scikit-learn 1.3.2\n",
      "- Python 3.8.18 | packaged by conda-forge | (default, Dec 23 2023, 17:23:49) \n",
      "[Clang 15.0.7 ]\n",
      "\n"
     ]
    }
   ],
   "source": [
    "import os  # Interact with the operating system\n",
    "import sys  # Read system parameters\n",
    "\n",
    "import matplotlib  # Create 2D charts\n",
    "import numpy as np  # Work with multi-dimensional arrays and matrices\n",
    "import pandas as pd  # Manipulate and analyze data\n",
    "import scipy as sp  # Perform scientific computing and advanced mathematics\n",
    "import seaborn as sb  # Perform data visualization\n",
    "import sklearn  # Perform data mining and analysis\n",
    "\n",
    "# Summarize software libraries used\n",
    "print(\"Libraries used in this project:\")\n",
    "print(\"- NumPy {}\".format(np.__version__))\n",
    "print(\"- Pandas {}\".format(pd.__version__))\n",
    "print(\"- Matplotlib {}\".format(matplotlib.__version__))\n",
    "print(\"- SciPy {}\".format(sp.__version__))\n",
    "print(\"- Scikit-learn {}\".format(sklearn.__version__))\n",
    "print(\"- Python {}\\n\".format(sys.version))"
   ]
  },
  {
   "cell_type": "markdown",
   "id": "e1033786-0fb0-4d3a-9593-879c452f618a",
   "metadata": {},
   "source": [
    "## Load the Dataset\n",
    "\n",
    "To analyze the price of a home  through multiple inputs in King County, load the dataset into `DataFrame`. Once loaded as `DataFrame` the data can be explored and visualized with pandas."
   ]
  },
  {
   "cell_type": "code",
   "execution_count": 33,
   "id": "58c26d6a-bf55-486c-8826-61dd6c09d898",
   "metadata": {},
   "outputs": [
    {
     "name": "stdout",
     "output_type": "stream",
     "text": [
      "Data files in this project: ['.ipynb_checkpoints', 'kc_house_data.csv']\n",
      "Loaded 21613 records from ./housing_data/kc_house_data.csv.\n",
      "\n"
     ]
    }
   ],
   "source": [
    "PROJECT_ROOT_DIR = \".\"\n",
    "DATA_PATH = os.path.join(PROJECT_ROOT_DIR, \"housing_data\")\n",
    "print(\"Data files in this project:\", os.listdir(DATA_PATH))\n",
    "\n",
    "# Read the raw dataset\n",
    "raw_housing_data_file = os.path.join(DATA_PATH, \"kc_house_data.csv\")\n",
    "raw_housing_data = pd.read_csv(raw_data_file)\n",
    "print(\n",
    "    \"Loaded {} records from {}.\\n\".format(len(raw_housing_data), raw_housing_data_file)\n",
    ")"
   ]
  },
  {
   "cell_type": "markdown",
   "id": "17a88347-e6c3-437f-8cc2-8762bf3b9c51",
   "metadata": {},
   "source": [
    "## Dataset Information\n"
   ]
  },
  {
   "cell_type": "markdown",
   "id": "4b048f59-c448-4919-821f-ae4831ba99e0",
   "metadata": {},
   "source": [
    "#### View features and data types\n",
    "\n",
    "Column Labels:\n",
    "- **id**—Unique identifier for each house sold.\n",
    "- **date**—Date of the house's most recent sale.\n",
    "- **price**—Price the house most recently sold for.\n",
    "- **bedrooms**—Number of bedrooms in the house.\n",
    "- **bathrooms**—Number of bathrooms. A room with a toilet but no shower is counted as 0.5.\n",
    "- **sqft_living**—Square footage of the house's interior living space.\n",
    "- **sqft_lot**—Square footage of the lot on which the house is located.\n",
    "- **floors**—Number of floor levels in the house.\n",
    "- **waterfront**—Whether the property borders on or contains a body of water. (0 = not waterfront, 1 =\n",
    "waterfront)\n",
    "- **view**—An index from 0 to 4 representing the subjective quality of the view from the property. The\n",
    "higher the number, the better the view.\n",
    "- **condition**—An index from 1 to 5 representing the subjective condition of the property. The higher\n",
    "the number, the better the condition.\n",
    "- **grade**—An index from 0 to 14 representing the quality of the building's construction and design.\n",
    "The higher the number, the better the grade.\n",
    "- **sqft_above**The square footage of the interior housing space that is above ground level.\n",
    "- **sqft_basement**—The square footage of the interior housing space that is below ground level.\n",
    "- **yr_built**—The year the house was initially built.\n",
    "- **yr_renovated**—The year of the house's last renovation.\n",
    "- **zipcode**—What zipcode area the house is located within.\n",
    "- **lat**—Latitude of the house's location.\n",
    "- **long**—Longitude of the house's location.\n",
    "- **sqft_living15**—The square footage of interior housing living space for the nearest 15 neighbors.\n",
    "- **sqft_lot15**—The square footage of the lan"
   ]
  },
  {
   "cell_type": "code",
   "execution_count": 34,
   "id": "3ac7705c-e715-4332-b5f3-c20d68d9fa26",
   "metadata": {},
   "outputs": [
    {
     "name": "stdout",
     "output_type": "stream",
     "text": [
      "<class 'pandas.core.frame.DataFrame'>\n",
      "RangeIndex: 21613 entries, 0 to 21612\n",
      "Data columns (total 21 columns):\n",
      " #   Column         Non-Null Count  Dtype  \n",
      "---  ------         --------------  -----  \n",
      " 0   id             21613 non-null  int64  \n",
      " 1   date           21613 non-null  object \n",
      " 2   price          21613 non-null  float64\n",
      " 3   bedrooms       21613 non-null  int64  \n",
      " 4   bathrooms      21613 non-null  float64\n",
      " 5   sqft_living    21613 non-null  int64  \n",
      " 6   sqft_lot       21613 non-null  int64  \n",
      " 7   floors         21613 non-null  float64\n",
      " 8   waterfront     21613 non-null  int64  \n",
      " 9   view           21613 non-null  int64  \n",
      " 10  condition      21613 non-null  int64  \n",
      " 11  grade          21613 non-null  int64  \n",
      " 12  sqft_above     21613 non-null  int64  \n",
      " 13  sqft_basement  21613 non-null  int64  \n",
      " 14  yr_built       21613 non-null  int64  \n",
      " 15  yr_renovated   21613 non-null  int64  \n",
      " 16  zipcode        21613 non-null  int64  \n",
      " 17  lat            21613 non-null  float64\n",
      " 18  long           21613 non-null  float64\n",
      " 19  sqft_living15  21613 non-null  int64  \n",
      " 20  sqft_lot15     21613 non-null  int64  \n",
      "dtypes: float64(5), int64(15), object(1)\n",
      "memory usage: 3.5+ MB\n",
      "None\n"
     ]
    }
   ],
   "source": [
    "print(raw_housing_data.info())"
   ]
  },
  {
   "cell_type": "markdown",
   "id": "c5438f6c-bccf-4cc5-abbb-561cf332bf43",
   "metadata": {},
   "source": [
    "- 21,613 records (\"entries\" regarding a particular house) are in the dataset.\n",
    "- There are 21 columns in the dataset.\n",
    "- Each column in the dataset is listed, along with its data type and the number of records that\n",
    "include a data value.\n",
    "- Five columns contain floating point number values: price, bathrooms, floors, lat, and\n",
    "long.\n",
    "- Fifteen columns contain integer number values: id, bedrooms, sqft_living, sqft_lot,\n",
    "waterfront, view, condition, grade, sqft_above, sqft_basement, yr_built,\n",
    "yr_renovated, zipcode, sqft_living15, and sqft_lot15.\n",
    "- One column (date) contains a date value (reported as an \"object\" value).\n",
    "- There are no missing data values. Each column contains 21,613 entries."
   ]
  },
  {
   "cell_type": "markdown",
   "id": "a9eadc1a-8b38-4974-bb8f-de38078191af",
   "metadata": {},
   "source": [
    "### Display samples"
   ]
  },
  {
   "cell_type": "markdown",
   "id": "ef340af8-0b7d-4228-8950-b94610b96b32",
   "metadata": {},
   "source": [
    "You can see significant variation in prices, number of bedrooms and bathrooms, living space, even in this small sample."
   ]
  },
  {
   "cell_type": "code",
   "execution_count": 37,
   "id": "c6507c9a-bd00-4058-9bf7-52326df51795",
   "metadata": {},
   "outputs": [
    {
     "name": "stdout",
     "output_type": "stream",
     "text": [
      "           id             date      price  bedrooms  bathrooms  sqft_living  \\\n",
      "0  7129300520  20141013T000000   221900.0         3       1.00         1180   \n",
      "1  6414100192  20141209T000000   538000.0         3       2.25         2570   \n",
      "2  5631500400  20150225T000000   180000.0         2       1.00          770   \n",
      "3  2487200875  20141209T000000   604000.0         4       3.00         1960   \n",
      "4  1954400510  20150218T000000   510000.0         3       2.00         1680   \n",
      "5  7237550310  20140512T000000  1225000.0         4       4.50         5420   \n",
      "6  1321400060  20140627T000000   257500.0         3       2.25         1715   \n",
      "7  2008000270  20150115T000000   291850.0         3       1.50         1060   \n",
      "8  2414600126  20150415T000000   229500.0         3       1.00         1780   \n",
      "9  3793500160  20150312T000000   323000.0         3       2.50         1890   \n",
      "\n",
      "   sqft_lot  floors  waterfront  view  ...  grade  sqft_above  sqft_basement  \\\n",
      "0      5650     1.0           0     0  ...      7        1180              0   \n",
      "1      7242     2.0           0     0  ...      7        2170            400   \n",
      "2     10000     1.0           0     0  ...      6         770              0   \n",
      "3      5000     1.0           0     0  ...      7        1050            910   \n",
      "4      8080     1.0           0     0  ...      8        1680              0   \n",
      "5    101930     1.0           0     0  ...     11        3890           1530   \n",
      "6      6819     2.0           0     0  ...      7        1715              0   \n",
      "7      9711     1.0           0     0  ...      7        1060              0   \n",
      "8      7470     1.0           0     0  ...      7        1050            730   \n",
      "9      6560     2.0           0     0  ...      7        1890              0   \n",
      "\n",
      "   yr_built  yr_renovated  zipcode      lat     long  sqft_living15  \\\n",
      "0      1955             0    98178  47.5112 -122.257           1340   \n",
      "1      1951          1991    98125  47.7210 -122.319           1690   \n",
      "2      1933             0    98028  47.7379 -122.233           2720   \n",
      "3      1965             0    98136  47.5208 -122.393           1360   \n",
      "4      1987             0    98074  47.6168 -122.045           1800   \n",
      "5      2001             0    98053  47.6561 -122.005           4760   \n",
      "6      1995             0    98003  47.3097 -122.327           2238   \n",
      "7      1963             0    98198  47.4095 -122.315           1650   \n",
      "8      1960             0    98146  47.5123 -122.337           1780   \n",
      "9      2003             0    98038  47.3684 -122.031           2390   \n",
      "\n",
      "   sqft_lot15  \n",
      "0        5650  \n",
      "1        7639  \n",
      "2        8062  \n",
      "3        5000  \n",
      "4        7503  \n",
      "5      101930  \n",
      "6        6819  \n",
      "7        9711  \n",
      "8        8113  \n",
      "9        7570  \n",
      "\n",
      "[10 rows x 21 columns]\n"
     ]
    }
   ],
   "source": [
    "# View first ten records\n",
    "print(raw_housing_data.head(10))"
   ]
  }
 ],
 "metadata": {
  "kernelspec": {
   "display_name": "Python 3 (ipykernel)",
   "language": "python",
   "name": "python3"
  },
  "language_info": {
   "codemirror_mode": {
    "name": "ipython",
    "version": 3
   },
   "file_extension": ".py",
   "mimetype": "text/x-python",
   "name": "python",
   "nbconvert_exporter": "python",
   "pygments_lexer": "ipython3",
   "version": "3.8.18"
  }
 },
 "nbformat": 4,
 "nbformat_minor": 5
}
