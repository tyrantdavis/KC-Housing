{
 "cells": [
  {
   "cell_type": "markdown",
   "id": "a9db4cae-de7d-4267-a501-1ea6429a3850",
   "metadata": {},
   "source": [
    "## Import software libraries\n",
    "\n",
    "Import the primary modules that will be used in this project:"
   ]
  },
  {
   "cell_type": "code",
   "execution_count": 18,
   "id": "462841f9-8eef-40b1-8591-85ead78d848e",
   "metadata": {},
   "outputs": [
    {
     "name": "stdout",
     "output_type": "stream",
     "text": [
      "Libraries used in this project:\n",
      "- NumPy 1.24.3\n",
      "- Pandas 2.0.3\n",
      "- Matplotlib 3.7.2\n",
      "- SciPy 1.10.1\n",
      "- Scikit-learn 1.3.2\n",
      "- Python 3.8.18 | packaged by conda-forge | (default, Dec 23 2023, 17:23:49) \n",
      "[Clang 15.0.7 ]\n",
      "\n"
     ]
    }
   ],
   "source": [
    "import os  # Interact with the operating system\n",
    "import sys  # Read system parameters\n",
    "\n",
    "import matplotlib  # Create 2D charts\n",
    "import numpy as np  # Work with multi-dimensional arrays and matrices\n",
    "import pandas as pd  # Manipulate and analyze data\n",
    "import scipy as sp  # Perform scientific computing and advanced mathematics\n",
    "import seaborn as sb  # Perform data visualization\n",
    "import sklearn  # Perform data mining and analysis\n",
    "\n",
    "# Summarize software libraries used\n",
    "print(\"Libraries used in this project:\")\n",
    "print(\"- NumPy {}\".format(np.__version__))\n",
    "print(\"- Pandas {}\".format(pd.__version__))\n",
    "print(\"- Matplotlib {}\".format(matplotlib.__version__))\n",
    "print(\"- SciPy {}\".format(sp.__version__))\n",
    "print(\"- Scikit-learn {}\".format(sklearn.__version__))\n",
    "print(\"- Python {}\\n\".format(sys.version))"
   ]
  },
  {
   "cell_type": "markdown",
   "id": "e1033786-0fb0-4d3a-9593-879c452f618a",
   "metadata": {},
   "source": [
    "## Load the Dataset\n",
    "\n",
    "To analyze the price of a home  through multiple inputs in King County, load the dataset into `DataFrame`. Once loaded as `DataFrame` the data can be explored and visualized with pandas."
   ]
  },
  {
   "cell_type": "code",
   "execution_count": 19,
   "id": "58c26d6a-bf55-486c-8826-61dd6c09d898",
   "metadata": {},
   "outputs": [
    {
     "name": "stdout",
     "output_type": "stream",
     "text": [
      "Data files in this project: ['.ipynb_checkpoints', 'kc_house_data.csv']\n",
      "Loaded 21613 records from ./housing_data/kc_house_data.csv.\n",
      "\n"
     ]
    }
   ],
   "source": [
    "PROJECT_ROOT_DIR = \".\"\n",
    "DATA_PATH = os.path.join(PROJECT_ROOT_DIR, \"housing_data\")\n",
    "print(\"Data files in this project:\", os.listdir(DATA_PATH))\n",
    "\n",
    "# Read the raw dataset\n",
    "raw_housing_data_file = os.path.join(DATA_PATH, \"kc_house_data.csv\")\n",
    "raw_housing_data = pd.read_csv(raw_data_file)\n",
    "print(\n",
    "    \"Loaded {} records from {}.\\n\".format(len(raw_housing_data), raw_housing_data_file)\n",
    ")"
   ]
  }
 ],
 "metadata": {
  "kernelspec": {
   "display_name": "Python 3 (ipykernel)",
   "language": "python",
   "name": "python3"
  },
  "language_info": {
   "codemirror_mode": {
    "name": "ipython",
    "version": 3
   },
   "file_extension": ".py",
   "mimetype": "text/x-python",
   "name": "python",
   "nbconvert_exporter": "python",
   "pygments_lexer": "ipython3",
   "version": "3.8.18"
  }
 },
 "nbformat": 4,
 "nbformat_minor": 5
}
