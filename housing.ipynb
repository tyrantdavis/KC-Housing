{
 "cells": [
  {
   "cell_type": "markdown",
   "id": "a9db4cae-de7d-4267-a501-1ea6429a3850",
   "metadata": {},
   "source": [
    "## Import software libraries\n",
    "\n",
    "Import the primary modules that will be used in this project:"
   ]
  },
  {
   "cell_type": "code",
   "execution_count": 32,
   "id": "462841f9-8eef-40b1-8591-85ead78d848e",
   "metadata": {},
   "outputs": [
    {
     "name": "stdout",
     "output_type": "stream",
     "text": [
      "Libraries used in this project:\n",
      "- NumPy 1.24.3\n",
      "- Pandas 2.0.3\n",
      "- Matplotlib 3.7.2\n",
      "- SciPy 1.10.1\n",
      "- Scikit-learn 1.3.2\n",
      "- Python 3.8.18 | packaged by conda-forge | (default, Dec 23 2023, 17:23:49) \n",
      "[Clang 15.0.7 ]\n",
      "\n"
     ]
    }
   ],
   "source": [
    "import os  # Interact with the operating system\n",
    "import sys  # Read system parameters\n",
    "\n",
    "import matplotlib  # Create 2D charts\n",
    "import numpy as np  # Work with multi-dimensional arrays and matrices\n",
    "import pandas as pd  # Manipulate and analyze data\n",
    "import scipy as sp  # Perform scientific computing and advanced mathematics\n",
    "import seaborn as sb  # Perform data visualization\n",
    "import sklearn  # Perform data mining and analysis\n",
    "\n",
    "# Summarize software libraries used\n",
    "print(\"Libraries used in this project:\")\n",
    "print(\"- NumPy {}\".format(np.__version__))\n",
    "print(\"- Pandas {}\".format(pd.__version__))\n",
    "print(\"- Matplotlib {}\".format(matplotlib.__version__))\n",
    "print(\"- SciPy {}\".format(sp.__version__))\n",
    "print(\"- Scikit-learn {}\".format(sklearn.__version__))\n",
    "print(\"- Python {}\\n\".format(sys.version))"
   ]
  },
  {
   "cell_type": "markdown",
   "id": "e1033786-0fb0-4d3a-9593-879c452f618a",
   "metadata": {},
   "source": [
    "## Load the Dataset\n",
    "\n",
    "To analyze the price of a home  through multiple inputs in King County, load the dataset into `DataFrame`. Once loaded as `DataFrame` the data can be explored and visualized with pandas."
   ]
  },
  {
   "cell_type": "code",
   "execution_count": 33,
   "id": "58c26d6a-bf55-486c-8826-61dd6c09d898",
   "metadata": {},
   "outputs": [
    {
     "name": "stdout",
     "output_type": "stream",
     "text": [
      "Data files in this project: ['.ipynb_checkpoints', 'kc_house_data.csv']\n",
      "Loaded 21613 records from ./housing_data/kc_house_data.csv.\n",
      "\n"
     ]
    }
   ],
   "source": [
    "PROJECT_ROOT_DIR = \".\"\n",
    "DATA_PATH = os.path.join(PROJECT_ROOT_DIR, \"housing_data\")\n",
    "print(\"Data files in this project:\", os.listdir(DATA_PATH))\n",
    "\n",
    "# Read the raw dataset\n",
    "raw_housing_data_file = os.path.join(DATA_PATH, \"kc_house_data.csv\")\n",
    "raw_housing_data = pd.read_csv(raw_data_file)\n",
    "print(\n",
    "    \"Loaded {} records from {}.\\n\".format(len(raw_housing_data), raw_housing_data_file)\n",
    ")"
   ]
  },
  {
   "cell_type": "markdown",
   "id": "17a88347-e6c3-437f-8cc2-8762bf3b9c51",
   "metadata": {},
   "source": [
    "## Dataset Information\n"
   ]
  },
  {
   "cell_type": "markdown",
   "id": "4b048f59-c448-4919-821f-ae4831ba99e0",
   "metadata": {},
   "source": [
    "#### View features and data types\n",
    "\n",
    "Column Labels:\n",
    "- **id**—Unique identifier for each house sold.\n",
    "- **date**—Date of the house's most recent sale.\n",
    "- **price**—Price the house most recently sold for.\n",
    "- **bedrooms**—Number of bedrooms in the house.\n",
    "- **bathrooms**—Number of bathrooms. A room with a toilet but no shower is counted as 0.5.\n",
    "- **sqft_living**—Square footage of the house's interior living space.\n",
    "- **sqft_lot**—Square footage of the lot on which the house is located.\n",
    "- **floors**—Number of floor levels in the house.\n",
    "- **waterfront**—Whether the property borders on or contains a body of water. (0 = not waterfront, 1 =\n",
    "waterfront)\n",
    "- **view**—An index from 0 to 4 representing the subjective quality of the view from the property. The\n",
    "higher the number, the better the view.\n",
    "- **condition**—An index from 1 to 5 representing the subjective condition of the property. The higher\n",
    "the number, the better the condition.\n",
    "- **grade**—An index from 0 to 14 representing the quality of the building's construction and design.\n",
    "The higher the number, the better the grade.\n",
    "- **sqft_above**The square footage of the interior housing space that is above ground level.\n",
    "- **sqft_basement**—The square footage of the interior housing space that is below ground level.\n",
    "- **yr_built**—The year the house was initially built.\n",
    "- **yr_renovated**—The year of the house's last renovation.\n",
    "- **zipcode**—What zipcode area the house is located within.\n",
    "- **lat**—Latitude of the house's location.\n",
    "- **long**—Longitude of the house's location.\n",
    "- **sqft_living15**—The square footage of interior housing living space for the nearest 15 neighbors.\n",
    "- **sqft_lot15**—The square footage of the lan"
   ]
  },
  {
   "cell_type": "code",
   "execution_count": 34,
   "id": "3ac7705c-e715-4332-b5f3-c20d68d9fa26",
   "metadata": {},
   "outputs": [
    {
     "name": "stdout",
     "output_type": "stream",
     "text": [
      "<class 'pandas.core.frame.DataFrame'>\n",
      "RangeIndex: 21613 entries, 0 to 21612\n",
      "Data columns (total 21 columns):\n",
      " #   Column         Non-Null Count  Dtype  \n",
      "---  ------         --------------  -----  \n",
      " 0   id             21613 non-null  int64  \n",
      " 1   date           21613 non-null  object \n",
      " 2   price          21613 non-null  float64\n",
      " 3   bedrooms       21613 non-null  int64  \n",
      " 4   bathrooms      21613 non-null  float64\n",
      " 5   sqft_living    21613 non-null  int64  \n",
      " 6   sqft_lot       21613 non-null  int64  \n",
      " 7   floors         21613 non-null  float64\n",
      " 8   waterfront     21613 non-null  int64  \n",
      " 9   view           21613 non-null  int64  \n",
      " 10  condition      21613 non-null  int64  \n",
      " 11  grade          21613 non-null  int64  \n",
      " 12  sqft_above     21613 non-null  int64  \n",
      " 13  sqft_basement  21613 non-null  int64  \n",
      " 14  yr_built       21613 non-null  int64  \n",
      " 15  yr_renovated   21613 non-null  int64  \n",
      " 16  zipcode        21613 non-null  int64  \n",
      " 17  lat            21613 non-null  float64\n",
      " 18  long           21613 non-null  float64\n",
      " 19  sqft_living15  21613 non-null  int64  \n",
      " 20  sqft_lot15     21613 non-null  int64  \n",
      "dtypes: float64(5), int64(15), object(1)\n",
      "memory usage: 3.5+ MB\n",
      "None\n"
     ]
    }
   ],
   "source": [
    "print(raw_housing_data.info())"
   ]
  },
  {
   "cell_type": "markdown",
   "id": "c5438f6c-bccf-4cc5-abbb-561cf332bf43",
   "metadata": {},
   "source": [
    "- 21,613 records (\"entries\" regarding a particular house) are in the dataset.\n",
    "- There are 21 columns in the dataset.\n",
    "- Each column in the dataset is listed, along with its data type and the number of records that\n",
    "include a data value.\n",
    "- Five columns contain floating point number values: price, bathrooms, floors, lat, and\n",
    "long.\n",
    "- Fifteen columns contain integer number values: id, bedrooms, sqft_living, sqft_lot,\n",
    "waterfront, view, condition, grade, sqft_above, sqft_basement, yr_built,\n",
    "yr_renovated, zipcode, sqft_living15, and sqft_lot15.\n",
    "- One column (date) contains a date value (reported as an \"object\" value).\n",
    "- There are no missing data values. Each column contains 21,613 entries."
   ]
  }
 ],
 "metadata": {
  "kernelspec": {
   "display_name": "Python 3 (ipykernel)",
   "language": "python",
   "name": "python3"
  },
  "language_info": {
   "codemirror_mode": {
    "name": "ipython",
    "version": 3
   },
   "file_extension": ".py",
   "mimetype": "text/x-python",
   "name": "python",
   "nbconvert_exporter": "python",
   "pygments_lexer": "ipython3",
   "version": "3.8.18"
  }
 },
 "nbformat": 4,
 "nbformat_minor": 5
}
